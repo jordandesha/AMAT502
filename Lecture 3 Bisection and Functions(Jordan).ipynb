{
 "cells": [
  {
   "cell_type": "markdown",
   "metadata": {
    "slideshow": {
     "slide_type": "slide"
    }
   },
   "source": [
    "# Lecture 3: Bisection Search and Functions\n",
    "## Modern Computing for Mathematicians\n",
    "### Fall 2019 Semester - University at Albany SUNY"
   ]
  },
  {
   "cell_type": "markdown",
   "metadata": {
    "slideshow": {
     "slide_type": "slide"
    }
   },
   "source": [
    "# Topics for Today\n",
    "\n",
    "* **Bisection Search Algorithm** \n",
    "* **Defining Function** "
   ]
  },
  {
   "cell_type": "markdown",
   "metadata": {
    "slideshow": {
     "slide_type": "slide"
    }
   },
   "source": [
    "## Linear Search\n",
    "\n",
    "- Suppose you are given a comma seperated string of integers, i.e., s = 22, 4, 12, 21, 10, 18, 101, 17\n",
    "- If I give you an integer, x = 19, how do we write code to check if this integer is in our string?"
   ]
  },
  {
   "cell_type": "code",
   "execution_count": 12,
   "metadata": {
    "slideshow": {
     "slide_type": "subslide"
    }
   },
   "outputs": [
    {
     "name": "stdout",
     "output_type": "stream",
     "text": [
      "19 is NOT in s\n"
     ]
    }
   ],
   "source": [
    "x = '19'\n",
    "s = '22,4,12,21,10,18,101,17'\n",
    "\n",
    "if x in s:\n",
    "    print(x, 'is in s')\n",
    "else:\n",
    "    print(x, 'is NOT in s')"
   ]
  },
  {
   "cell_type": "markdown",
   "metadata": {
    "slideshow": {
     "slide_type": "slide"
    }
   },
   "source": [
    "## Linear Search\n",
    "\n",
    "- This gives us a linear way of searching for integer values in a given string on integers\n",
    "- Note: this method is computed in $O(n)$ time.\n",
    "- Now, what if we know that our list is ordered..."
   ]
  },
  {
   "cell_type": "markdown",
   "metadata": {
    "slideshow": {
     "slide_type": "slide"
    }
   },
   "source": [
    "## Bisection Search\n",
    "\n",
    "- Suppose now that we found a nice way to order our list $s$ = 4, 10, 17, 18, 21, 22, 101\n",
    "- Since $s$ is ordered, we can check if $x = 19$ is equal to the element in some part of the list, and if it is not, we can use the ordering to determine where to check next:\n",
    "\n",
    "is ***x*** = 4, 10, 17, ***18***, 21, 22, 101 ?  **NO**\n",
    "\n"
   ]
  },
  {
   "cell_type": "markdown",
   "metadata": {
    "slideshow": {
     "slide_type": "slide"
    }
   },
   "source": [
    "## Bisection Search\n",
    "\n",
    "- Since 19 $\\neq$ 18, we can see that 18 < 19 so we *don't* have to check any oart of the list 4,10,17,18 since all of those numbers are less than 19. Now we can just check \n",
    "\n",
    "is ***x*** = 21, ***22***, 101 ? **NO**\n",
    "\n",
    "- and 19 < 22 so we just have to check the rest of the list to the left of 22,\n",
    "\n",
    "is ***x*** = ***21*** **NO**\n",
    "\n",
    "- Therefore $x = 19$ is not in $s$."
   ]
  },
  {
   "cell_type": "markdown",
   "metadata": {
    "slideshow": {
     "slide_type": "slide"
    }
   },
   "source": [
    "## Square Roots\n",
    "\n",
    "- Suppose we want to find the value of $\\sqrt{x}$ for some positive real number $x$.\n",
    "\n",
    "- If we wanted to store $\\sqrt{x}$ on a computer, what issue would we run into when we wanted to store $\\sqrt{2}$?"
   ]
  },
  {
   "cell_type": "markdown",
   "metadata": {
    "slideshow": {
     "slide_type": "slide"
    }
   },
   "source": [
    "## Square Roots\n",
    "\n",
    "- Then the idea is that we want to **approximate** the square root function.\n",
    "\n",
    "- Let's first do this for the easiest case of $x$, i.e., $\\sqrt{x} \\in \\mathbb{Z}$."
   ]
  },
  {
   "cell_type": "code",
   "execution_count": 18,
   "metadata": {
    "slideshow": {
     "slide_type": "subslide"
    }
   },
   "outputs": [
    {
     "name": "stdout",
     "output_type": "stream",
     "text": [
      "Enter an positive integer: 4\n",
      "The square root of  4  is  2\n"
     ]
    }
   ],
   "source": [
    "x = int(input(\"Enter an positive integer: \"))\n",
    "for guess in range(0, x + 1):\n",
    "    if guess*guess >= x:\n",
    "        break\n",
    "if guess*guess != x:\n",
    "    print(x, 'is not a perfect square')\n",
    "else:\n",
    "    print(\"The square root of \", x, ' is ', guess)\n",
    "    "
   ]
  },
  {
   "cell_type": "markdown",
   "metadata": {
    "slideshow": {
     "slide_type": "slide"
    }
   },
   "source": [
    "## Square Roots\n",
    "- Now, we want to be able to handle more complicated square roots, **BUT** in general we will not be able to find it exactly. Therefore, we need an additional parameter, $\\epsilon$.\n",
    "\n",
    "- Let's see what an exhaustive approximation of $\\sqrt{25}$ gives us"
   ]
  },
  {
   "cell_type": "code",
   "execution_count": 19,
   "metadata": {
    "scrolled": true,
    "slideshow": {
     "slide_type": "subslide"
    }
   },
   "outputs": [
    {
     "name": "stdout",
     "output_type": "stream",
     "text": [
      "numGuesses = 49990\n",
      "4.999000000001688 is close to square root of 25\n"
     ]
    }
   ],
   "source": [
    "x = 25 #The variable we are finding the square root of\n",
    "epsilon = 0.01 #How close we want our approximation to be\n",
    "step = epsilon**2 #How we want to iterate our guesses\n",
    "numGuesses = 0 #How many guesses did it take\n",
    "guess = 0.0 #Start trying to make guess starting at 0\n",
    "while abs(guess**2 - x) >= epsilon and guess <= x: \n",
    "    #while the difference between our attempted answer squared and\n",
    "    # x ( = 25) is greater than our approximation bound and we have a\n",
    "    # bound on our answer (i.e. answer is less than x)\n",
    "    guess += step  \n",
    "    # iterare the answer by the step we set earlier\n",
    "    numGuesses += 1 \n",
    "    # add one to how many guesses it took if we have to iterate\n",
    "print('numGuesses =', numGuesses) \n",
    "#if our while loop failed, tell us that it failed\n",
    "if abs(guess**2 - x) >= epsilon:     \n",
    "    print('Failed on square root of', x) \n",
    "#otherwise, tell us the closest approximate solution\n",
    "else:     \n",
    "    print(guess, 'is close to square root of', x)"
   ]
  },
  {
   "cell_type": "markdown",
   "metadata": {
    "slideshow": {
     "slide_type": "slide"
    }
   },
   "source": [
    "## Square Roots\n",
    "\n",
    "* Since we know that the real numbers are ordered, we can use this to search for square roots more efficiently using bisection search method\n",
    "\n"
   ]
  },
  {
   "cell_type": "code",
   "execution_count": 26,
   "metadata": {
    "slideshow": {
     "slide_type": "subslide"
    }
   },
   "outputs": [
    {
     "name": "stdout",
     "output_type": "stream",
     "text": [
      "Enter a number : 25\n",
      "The square root of 25 is 4.9999237060546875\n",
      "This took 15 guesses\n"
     ]
    }
   ],
   "source": [
    "x = int(input('Enter a number : '))\n",
    "epsilon = 0.001\n",
    "left = 0\n",
    "right = x\n",
    "numGuesses = 0\n",
    "guess = (right+left)/2.0\n",
    "while abs(guess**2 - x) > epsilon:\n",
    "    numGuesses += 1\n",
    "    if guess**2 < x:\n",
    "        left = guess\n",
    "    else:\n",
    "        right = guess\n",
    "    guess = (right+left)/2.0\n",
    "print(\"The square root of\", x, \"is\", guess)\n",
    "print(\"This took\", numGuesses, \"guesses\")"
   ]
  },
  {
   "cell_type": "markdown",
   "metadata": {
    "slideshow": {
     "slide_type": "slide"
    }
   },
   "source": [
    "## Functions\n",
    "\n",
    "A function is a block of code which only runs when it is called.\n",
    "\n",
    "You can pass data, known as parameters, into a function.\n",
    "\n",
    "A function can return data as a result.\n",
    "\n",
    "The following is an example of how to define a function:"
   ]
  },
  {
   "cell_type": "code",
   "execution_count": 20,
   "metadata": {
    "slideshow": {
     "slide_type": "subslide"
    }
   },
   "outputs": [],
   "source": [
    "def a_function():\n",
    "    print(\"This is a function\")"
   ]
  },
  {
   "cell_type": "code",
   "execution_count": 21,
   "metadata": {
    "slideshow": {
     "slide_type": "subslide"
    }
   },
   "outputs": [
    {
     "name": "stdout",
     "output_type": "stream",
     "text": [
      "This is a function\n"
     ]
    }
   ],
   "source": [
    "a_function()"
   ]
  },
  {
   "cell_type": "markdown",
   "metadata": {
    "slideshow": {
     "slide_type": "slide"
    }
   },
   "source": [
    "## Functions\n",
    "\n",
    "* The keyword *def* identifies the beginning of the definition of the function\n",
    "\n",
    "* Then following *def* is the function name. Notice that instead of using spaces in *a_function* we use *_* to seperate different words in our function name.\n",
    "\n",
    "* Following the name we have round brackets attached. This is where we provide the parameters we want to use inside of our function. For example, if we want to make a function that adds three numbers together we could define the following function:"
   ]
  },
  {
   "cell_type": "code",
   "execution_count": 22,
   "metadata": {
    "slideshow": {
     "slide_type": "subslide"
    }
   },
   "outputs": [],
   "source": [
    "def add_three_numbers(a,b,c):\n",
    "    print(a + b + c)"
   ]
  },
  {
   "cell_type": "code",
   "execution_count": 23,
   "metadata": {
    "slideshow": {
     "slide_type": "subslide"
    }
   },
   "outputs": [
    {
     "name": "stdout",
     "output_type": "stream",
     "text": [
      "9\n"
     ]
    }
   ],
   "source": [
    "add_three_numbers(1,3,5)"
   ]
  },
  {
   "cell_type": "markdown",
   "metadata": {
    "slideshow": {
     "slide_type": "slide"
    }
   },
   "source": [
    "## Functions\n",
    "\n",
    "* The colon (:) identifies the end of the function header.\n",
    "\n",
    "* Next, we see that there is an indentation of 4 spaces under the function header, where we put lines of code to be run using the parameters we identified in the definition of the functions. In Python, the indentation is required for indicating what block of code a statement belongs to.\n",
    "\n",
    "* Last, you can put in a return statement so that the output of the function can be used again as the input of another function. If you use a *print()* statement instead of return, the print output will be a string data type, whereas the *return* statement will respect the variable data type."
   ]
  },
  {
   "cell_type": "code",
   "execution_count": 24,
   "metadata": {
    "slideshow": {
     "slide_type": "subslide"
    }
   },
   "outputs": [],
   "source": [
    "def one_function(a,b):\n",
    "    return(a + b)\n",
    "    \n",
    "def two_function(a):\n",
    "    return 2*a\n",
    "    "
   ]
  },
  {
   "cell_type": "code",
   "execution_count": 25,
   "metadata": {
    "slideshow": {
     "slide_type": "subslide"
    }
   },
   "outputs": [
    {
     "data": {
      "text/plain": [
       "6"
      ]
     },
     "execution_count": 25,
     "metadata": {},
     "output_type": "execute_result"
    }
   ],
   "source": [
    "two_function(one_function(1,2))"
   ]
  },
  {
   "cell_type": "markdown",
   "metadata": {
    "slideshow": {
     "slide_type": "slide"
    }
   },
   "source": [
    "## Square Root Function\n",
    "\n",
    "* Now that we've written code above that can approximate the square root of a real number, we can replace user input with a variable so the function can be defined and then called whenever we need it"
   ]
  },
  {
   "cell_type": "code",
   "execution_count": 26,
   "metadata": {
    "slideshow": {
     "slide_type": "subslide"
    }
   },
   "outputs": [],
   "source": [
    "def sqrt(x):\n",
    "    epsilon = 0.001\n",
    "    left = 0\n",
    "    right = x\n",
    "    numGuesses = 0\n",
    "    guess = (right+left)/2.0\n",
    "    while abs(guess**2 - x) > epsilon:\n",
    "        numGuesses += 1\n",
    "        if guess**2 < x:\n",
    "            left = guess\n",
    "        else:\n",
    "            right = guess\n",
    "        guess = (right+left)/2.0\n",
    "    print(\"The square root of\", x, \"is\", guess)\n",
    "    print(\"This took\", numGuesses, \"guesses\")"
   ]
  },
  {
   "cell_type": "code",
   "execution_count": 27,
   "metadata": {
    "slideshow": {
     "slide_type": "subslide"
    }
   },
   "outputs": [
    {
     "name": "stdout",
     "output_type": "stream",
     "text": [
      "The square root of 19 is 4.3589019775390625\n",
      "This took 15 guesses\n"
     ]
    }
   ],
   "source": [
    "sqrt(19)"
   ]
  },
  {
   "cell_type": "markdown",
   "metadata": {
    "slideshow": {
     "slide_type": "slide"
    }
   },
   "source": [
    "## Variables\n",
    "\n",
    "* Notice in the definitions of the functions above, we were able to use the same variable name without one function thinking that it is using the input from the other function. This is because there are two types of variables:\n",
    "\n",
    "<ol>\n",
    "\n",
    "* **Local:** Local variables are the one that are defined and declared inside a function and are referenced inside the function only.\n",
    "\n",
    "* **Global:** Global variables are the one that are defined and declared outside a function and we need to use them inside a function.\n",
    "\n",
    "* For example:\n",
    "\n",
    "</ol>"
   ]
  },
  {
   "cell_type": "code",
   "execution_count": 22,
   "metadata": {
    "slideshow": {
     "slide_type": "subslide"
    }
   },
   "outputs": [
    {
     "data": {
      "text/plain": [
       "7"
      ]
     },
     "execution_count": 22,
     "metadata": {},
     "output_type": "execute_result"
    }
   ],
   "source": [
    "h = 6\n",
    "def loc_to_global(a):\n",
    "    return a + h\n",
    "\n",
    "loc_to_global(1)"
   ]
  },
  {
   "cell_type": "code",
   "execution_count": null,
   "metadata": {},
   "outputs": [],
   "source": []
  }
 ],
 "metadata": {
  "celltoolbar": "Slideshow",
  "kernelspec": {
   "display_name": "Python 3",
   "language": "python",
   "name": "python3"
  },
  "language_info": {
   "codemirror_mode": {
    "name": "ipython",
    "version": 3
   },
   "file_extension": ".py",
   "mimetype": "text/x-python",
   "name": "python",
   "nbconvert_exporter": "python",
   "pygments_lexer": "ipython3",
   "version": "3.7.3"
  }
 },
 "nbformat": 4,
 "nbformat_minor": 2
}
