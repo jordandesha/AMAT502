{
 "cells": [
  {
   "cell_type": "markdown",
   "metadata": {},
   "source": [
    "# Data Structures and Algorithms\n",
    "\n",
    "* Sorting\n",
    "* Data Structures\n",
    "* Graphs and Trees\n",
    "* Graph Algorithms"
   ]
  },
  {
   "cell_type": "markdown",
   "metadata": {},
   "source": [
    "## Sorting Algorithms"
   ]
  },
  {
   "cell_type": "code",
   "execution_count": null,
   "metadata": {},
   "outputs": [],
   "source": []
  },
  {
   "cell_type": "markdown",
   "metadata": {},
   "source": [
    "## Data Structures"
   ]
  },
  {
   "cell_type": "markdown",
   "metadata": {},
   "source": [
    "### Stacks"
   ]
  },
  {
   "cell_type": "code",
   "execution_count": 1,
   "metadata": {},
   "outputs": [],
   "source": [
    "class Stack:\n",
    "    def __init__(self):\n",
    "        self.items = []\n",
    "        \n",
    "    def push(self,x):\n",
    "        self.items.append(x)\n",
    "        \n",
    "    def pop(self):\n",
    "        self.items.pop()\n",
    "        \n",
    "    def is_empty(self):\n",
    "        return len(self.items) == 0\n",
    "    \n",
    "    def peek(self):\n",
    "        if self.is_empty() == False:\n",
    "            return self.items[-1]\n",
    "    \n",
    "    def get_min(self):\n",
    "        s = self.items\n",
    "        m = s[0]\n",
    "        for i in s:\n",
    "            if i < m:\n",
    "                m = i\n",
    "        return m"
   ]
  },
  {
   "cell_type": "code",
   "execution_count": 2,
   "metadata": {},
   "outputs": [],
   "source": [
    "s = Stack()\n",
    "s.push(-50)\n",
    "s.push(1)\n",
    "s.push(-1)\n",
    "s.push(2)\n",
    "s.push(50)\n",
    "s.push(3)\n",
    "s.push(-42)\n",
    "s.push(4)"
   ]
  },
  {
   "cell_type": "code",
   "execution_count": 3,
   "metadata": {},
   "outputs": [],
   "source": [
    "s.pop()"
   ]
  },
  {
   "cell_type": "code",
   "execution_count": 4,
   "metadata": {},
   "outputs": [
    {
     "data": {
      "text/plain": [
       "-42"
      ]
     },
     "execution_count": 4,
     "metadata": {},
     "output_type": "execute_result"
    }
   ],
   "source": [
    "s.peek()"
   ]
  },
  {
   "cell_type": "code",
   "execution_count": 5,
   "metadata": {},
   "outputs": [
    {
     "data": {
      "text/plain": [
       "-50"
      ]
     },
     "execution_count": 5,
     "metadata": {},
     "output_type": "execute_result"
    }
   ],
   "source": [
    "s.get_min()"
   ]
  },
  {
   "cell_type": "markdown",
   "metadata": {},
   "source": [
    "### Queues"
   ]
  },
  {
   "cell_type": "code",
   "execution_count": 6,
   "metadata": {},
   "outputs": [],
   "source": [
    "class Queue:\n",
    "    def __init__(self):\n",
    "        self.items = []\n",
    "        \n",
    "    def enqueue(self,x):\n",
    "        self.items.append(x)\n",
    "    \n",
    "    def dequeue(self):\n",
    "        self.items.pop(0)\n",
    "    \n",
    "    def is_empty(self):\n",
    "        return len(self.items) == 0\n",
    "    \n",
    "    def peek(self):\n",
    "        if self.is_empty() == False:\n",
    "            return self.items[0]\n",
    "        "
   ]
  },
  {
   "cell_type": "code",
   "execution_count": 7,
   "metadata": {},
   "outputs": [],
   "source": [
    "q = Queue()\n",
    "q.enqueue(1)\n",
    "q.enqueue(2)\n",
    "q.enqueue(3)\n",
    "q.enqueue(4)"
   ]
  },
  {
   "cell_type": "code",
   "execution_count": 8,
   "metadata": {},
   "outputs": [],
   "source": [
    "q.dequeue()"
   ]
  },
  {
   "cell_type": "code",
   "execution_count": 9,
   "metadata": {},
   "outputs": [
    {
     "data": {
      "text/plain": [
       "2"
      ]
     },
     "execution_count": 9,
     "metadata": {},
     "output_type": "execute_result"
    }
   ],
   "source": [
    "q.peek()"
   ]
  },
  {
   "cell_type": "markdown",
   "metadata": {},
   "source": [
    "### Linked Lists"
   ]
  },
  {
   "cell_type": "code",
   "execution_count": 10,
   "metadata": {},
   "outputs": [],
   "source": [
    "class Node():\n",
    "    def __init__(self,value = None):\n",
    "        self.value = value\n",
    "        self.next = None \n",
    "\n",
    "class LinkedList:\n",
    "    \n",
    "    def __init__(self):\n",
    "        self.head = None\n",
    "    \n",
    "    def see_list(self):\n",
    "        p = self.head\n",
    "        s = ''\n",
    "        while p != None:\n",
    "            s = s + str(p.value) + '->'\n",
    "            #print(p.value)\n",
    "            p = p.next\n",
    "        s = s + 'None'\n",
    "        print(s)\n",
    "        \n",
    "    def print_list(self):\n",
    "        p = self.head\n",
    "        while p != None:\n",
    "            print(p.value)\n",
    "            p = p.next\n",
    "    \n",
    "    def insert_head(self,value):\n",
    "        s = Node(value)\n",
    "        s.next = self.head\n",
    "        self.head = s\n",
    "        \n",
    "    def insert_tail(self,value):\n",
    "        s = Node(value)\n",
    "        if self.head == None:\n",
    "            self.head = s\n",
    "        else:\n",
    "            h = self.head\n",
    "            while(h.next):\n",
    "                h = h.next\n",
    "            h.next = s\n",
    "            \n",
    "    def getTail(self):\n",
    "        h = self.head\n",
    "        while h.next:\n",
    "            h = h.next\n",
    "        return h\n",
    "        \n",
    "    def isEmpty(self):\n",
    "        if not self.head:\n",
    "            return True\n",
    "        else:\n",
    "            return False\n",
    "    \n",
    "    #def insert_between(self,value,key):\n",
    "        \n",
    "    #def remove(self,value):\n",
    "    \n",
    "    "
   ]
  },
  {
   "cell_type": "code",
   "execution_count": 11,
   "metadata": {},
   "outputs": [],
   "source": [
    "e1 = Node(1)\n",
    "e2 = Node(2)\n",
    "e3 = Node(3)"
   ]
  },
  {
   "cell_type": "code",
   "execution_count": 12,
   "metadata": {},
   "outputs": [
    {
     "name": "stdout",
     "output_type": "stream",
     "text": [
      "1->2->3->None\n"
     ]
    }
   ],
   "source": [
    "l = LinkedList()\n",
    "l.head = e1\n",
    "e1.next = e2\n",
    "e2.next = e3\n",
    "l.see_list()"
   ]
  },
  {
   "cell_type": "code",
   "execution_count": 13,
   "metadata": {},
   "outputs": [
    {
     "name": "stdout",
     "output_type": "stream",
     "text": [
      "4->1->2->3->None\n"
     ]
    }
   ],
   "source": [
    "l.insert_head(4)\n",
    "l.see_list()"
   ]
  },
  {
   "cell_type": "code",
   "execution_count": 14,
   "metadata": {},
   "outputs": [
    {
     "name": "stdout",
     "output_type": "stream",
     "text": [
      "4->1->2->3->5->None\n"
     ]
    }
   ],
   "source": [
    "l.insert_tail(5)\n",
    "l.see_list()"
   ]
  },
  {
   "cell_type": "markdown",
   "metadata": {},
   "source": [
    "## Problems\n",
    "\n",
    "* Reverse a string\n",
    "* Reverse linked list\n",
    "* Use two queues to make a stack"
   ]
  },
  {
   "cell_type": "markdown",
   "metadata": {},
   "source": [
    "1) Write a function that reverses a string."
   ]
  },
  {
   "cell_type": "code",
   "execution_count": 15,
   "metadata": {},
   "outputs": [],
   "source": [
    "#Using lists\n",
    "def rev_str(s):\n",
    "    r = ''\n",
    "    for i in range(len(s)):\n",
    "        r += s[len(s) - 1 - i]\n",
    "    return r"
   ]
  },
  {
   "cell_type": "code",
   "execution_count": 16,
   "metadata": {},
   "outputs": [
    {
     "data": {
      "text/plain": [
       "'yenom'"
      ]
     },
     "execution_count": 16,
     "metadata": {},
     "output_type": "execute_result"
    }
   ],
   "source": [
    "rev_str('money')"
   ]
  },
  {
   "cell_type": "code",
   "execution_count": 22,
   "metadata": {},
   "outputs": [
    {
     "data": {
      "text/plain": [
       "'yenom'"
      ]
     },
     "execution_count": 22,
     "metadata": {},
     "output_type": "execute_result"
    }
   ],
   "source": [
    "#Using a stack\n",
    "def rev_str_stack(s):\n",
    "    r = Stack()\n",
    "    t = ''\n",
    "    for i in s:\n",
    "        r.push(i)\n",
    "    while not r.is_empty():\n",
    "        t += r.peek()\n",
    "        r.pop()\n",
    "    return t\n",
    "rev_str_stack('money')"
   ]
  },
  {
   "cell_type": "markdown",
   "metadata": {},
   "source": [
    "2) Write a function that reverses a linked list.\n",
    "\n",
    "1 -> 2 -> 3 -> None\n",
    "\n",
    "3 -> 2 -> 1 -> None"
   ]
  },
  {
   "cell_type": "code",
   "execution_count": null,
   "metadata": {},
   "outputs": [],
   "source": [
    "#Not done\n",
    "def rev_linked(self):\n",
    "    if self.isEmpty():\n",
    "        return self\n",
    "    else:\n",
    "        temp_head = self.head.next\n",
    "        h = self.head\n",
    "        self.head.next = None\n",
    "        while temp_head:\n",
    "            t = temp_head.next\n",
    "            temp_head.next = h"
   ]
  },
  {
   "cell_type": "markdown",
   "metadata": {},
   "source": [
    "3) Given a string A denoting a stream of lowercase alphabets. You have to make new string B. B is formed such that we have to find first non-repeating character each time a character is inserted to the stream and append it at the end to B. If no non-repeating character is found then append '#' at the end of B.\n",
    "\n",
    "**ex**:. input: \"abadbc\" output: \"aabbdd\"\n"
   ]
  },
  {
   "cell_type": "code",
   "execution_count": 25,
   "metadata": {},
   "outputs": [
    {
     "data": {
      "text/plain": [
       "(['a', 'b', 'd', 'c'], ['a', 'b'])"
      ]
     },
     "execution_count": 25,
     "metadata": {},
     "output_type": "execute_result"
    }
   ],
   "source": [
    "#Not done\n",
    "def repeating_char(s):\n",
    "    q = Queue()\n",
    "    r = []\n",
    "    v = []\n",
    "    for i in s:\n",
    "        if i not in v:\n",
    "            q.enqueue(i)\n",
    "            v.append(i)\n",
    "        else:\n",
    "            r.append(i)\n",
    "    return q.items,r\n",
    "    \n",
    "repeating_char('abadbc')"
   ]
  },
  {
   "cell_type": "markdown",
   "metadata": {},
   "source": [
    "4) Remove Zero Sum Consecutive Nodes from Linked List."
   ]
  },
  {
   "cell_type": "code",
   "execution_count": null,
   "metadata": {},
   "outputs": [],
   "source": [
    "    "
   ]
  }
 ],
 "metadata": {
  "kernelspec": {
   "display_name": "Python 3",
   "language": "python",
   "name": "python3"
  },
  "language_info": {
   "codemirror_mode": {
    "name": "ipython",
    "version": 3
   },
   "file_extension": ".py",
   "mimetype": "text/x-python",
   "name": "python",
   "nbconvert_exporter": "python",
   "pygments_lexer": "ipython3",
   "version": "3.7.4"
  }
 },
 "nbformat": 4,
 "nbformat_minor": 4
}
